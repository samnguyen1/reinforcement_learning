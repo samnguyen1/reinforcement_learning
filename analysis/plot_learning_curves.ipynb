{
 "cells": [
  {
   "cell_type": "code",
   "execution_count": null,
   "id": "a00deaf4",
   "metadata": {},
   "outputs": [],
   "source": [
    "# Plotting learning curves for analysis (Jupyter Notebook)\n",
    "import pandas as pd\n",
    "import matplotlib.pyplot as plt\n",
    "from utils import plot_utils\n",
    "\n",
    "# Load all results\n",
    "df = plot_utils.load_results(\"logs/monitor\")\n",
    "\n",
    "# Example: Plot mean and std learning curve for PPO on HalfCheetah\n",
    "plot_utils.plot_learning_curve(\"ppo\", \"HalfCheetah-v5\", log_dir=\"logs/monitor\")\n",
    "\n",
    "# If comparing multiple algorithms on the same environment, e.g., HalfCheetah:\n",
    "plot_utils.plot_all_algorithms(\"HalfCheetah-v5\", log_dir=\"logs/monitor\")\n"
   ]
  }
 ],
 "metadata": {
  "language_info": {
   "name": "python"
  }
 },
 "nbformat": 4,
 "nbformat_minor": 5
}
